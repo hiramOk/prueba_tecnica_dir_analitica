{
  "cells": [
    {
      "cell_type": "markdown",
      "metadata": {
        "id": "xAdOfOi9uyOc"
      },
      "source": [
        "# Reto 1\n",
        "Para el modelo de pregunts y respuestas se basa en patrones prdedefinidos con sus respectivas respuestas, y a través de clasificación el modelo decide cual será la respuesta"
      ]
    },
    {
      "cell_type": "markdown",
      "metadata": {
        "id": "cA3q5K3-nANH"
      },
      "source": [
        "# Importación de paqueterías\n"
      ]
    },
    {
      "cell_type": "code",
      "execution_count": 2,
      "metadata": {
        "id": "vKKF3EIfn_7n"
      },
      "outputs": [],
      "source": [
        "import tensorflow as tf\n",
        "from tensorflow.keras import Sequential\n",
        "from tensorflow.keras.layers import Dense, Dropout"
      ]
    },
    {
      "cell_type": "code",
      "execution_count": 3,
      "metadata": {
        "colab": {
          "base_uri": "https://localhost:8080/"
        },
        "id": "qknDe-3MEUFE",
        "outputId": "ccbcb042-1e73-477a-9901-5a50c3670c3a"
      },
      "outputs": [
        {
          "name": "stderr",
          "output_type": "stream",
          "text": [
            "[nltk_data] Downloading package punkt to /root/nltk_data...\n",
            "[nltk_data]   Unzipping tokenizers/punkt.zip.\n",
            "[nltk_data] Downloading package wordnet to /root/nltk_data...\n",
            "[nltk_data] Downloading package omw-1.4 to /root/nltk_data...\n"
          ]
        },
        {
          "data": {
            "text/plain": [
              "True"
            ]
          },
          "execution_count": 3,
          "metadata": {},
          "output_type": "execute_result"
        }
      ],
      "source": [
        "import pandas as pd\n",
        "import numpy as np\n",
        "import re\n",
        "import json \n",
        "import string\n",
        "import torch\n",
        "import nltk\n",
        "import gensim\n",
        "from nltk import WordNetLemmatizer\n",
        "from sklearn.metrics import accuracy_score, average_precision_score\n",
        "import torch.nn as nn\n",
        "import torchtext\n",
        "from torchtext.data import get_tokenizer\n",
        "nltk.download('punkt')\n",
        "nltk.download('wordnet')\n",
        "nltk.download('omw-1.4')"
      ]
    },
    {
      "cell_type": "markdown",
      "metadata": {
        "id": "XVr_RXQYIe4P"
      },
      "source": [
        "# Carga de datos\n",
        "Conjunto de datos para entrenar el modelo, con respuestas básicas"
      ]
    },
    {
      "cell_type": "code",
      "execution_count": 5,
      "metadata": {
        "id": "0B2vPQtqGy3f"
      },
      "outputs": [],
      "source": [
        "f = open('/content/Intent.json')\n",
        "intents = json.load(f)"
      ]
    },
    {
      "cell_type": "markdown",
      "metadata": {
        "id": "5xTuIvNkb9hW"
      },
      "source": [
        "# Identificación de variable objetivo y características (preprocesamiento)\n",
        "Los datos tienen diferentes _intenciones_ y respuestas de acuerdo a la intención"
      ]
    },
    {
      "cell_type": "code",
      "execution_count": 6,
      "metadata": {
        "id": "Lv1II3KK8q1M"
      },
      "outputs": [],
      "source": [
        "def preprocesamiento(line):\n",
        "    line = re.sub(r'[^a-zA-z.?!\\']', ' ', line)\n",
        "    line = re.sub(r'[ ]+', ' ', line)\n",
        "    return line"
      ]
    },
    {
      "cell_type": "code",
      "execution_count": 7,
      "metadata": {
        "id": "p_oBDEO3IXsm"
      },
      "outputs": [],
      "source": [
        "# listas para las palabras tokenizadas, las clases que identifican a cada respuesta, las características y la variable objetivo, en ese orden respectivamente\n",
        "w = [] # para la representación del lenguaje\n",
        "clases = [] # para guardar las etiquetas\n",
        "X = [] # guardamos el text con el que se entrena el modelo\n",
        "y = [] # para cada etiqueta que corresponde a cada X"
      ]
    },
    {
      "cell_type": "code",
      "execution_count": 8,
      "metadata": {
        "id": "Ef0xbUqv4rrR"
      },
      "outputs": [],
      "source": [
        "for intent in intents['intents']:\n",
        "  for response in intent['responses']:\n",
        "    tokens = nltk.word_tokenize(response)\n",
        "    w.extend(tokens)\n",
        "    X.append(response)\n",
        "    y.append(intent['text'])\n",
        "\n",
        "  if intent['text'] not in clases:\n",
        "    clases.append(intent['text'])"
      ]
    },
    {
      "cell_type": "markdown",
      "metadata": {
        "id": "zOwqEQ3f9cTp"
      },
      "source": [
        "*Lematizamos* como parte del preprocesamiento, lemmatizer convierte su palabra a su forma canonica. por ejemplo, las palabras [change, changes, changing, changed] pasan a ser 'change'"
      ]
    },
    {
      "cell_type": "code",
      "execution_count": 11,
      "metadata": {
        "id": "5b8qjArJvW6v"
      },
      "outputs": [],
      "source": [
        "lemmatizer = WordNetLemmatizer()\n",
        "palabras = [lemmatizer.lemmatize(word.lower()) for word in w if word not in string.punctuation]\n",
        "\n",
        "palabras = sorted(set(palabras))\n",
        "# clases = sorted(set(clases))"
      ]
    },
    {
      "cell_type": "markdown",
      "metadata": {
        "id": "0HknwwfnccTX"
      },
      "source": [
        "# Creación de la representación del lenguaje\n",
        "De a cuerdo a las restricciones del reto, este modelo es desde cero, por lo tanto usamos una bolsa de palabras (BOW), una técnica de representación de texto que crea un vector con las frecuencias de las palabras"
      ]
    },
    {
      "cell_type": "code",
      "execution_count": 12,
      "metadata": {
        "colab": {
          "base_uri": "https://localhost:8080/"
        },
        "id": "-Km01PoRXP5x",
        "outputId": "502d6011-860c-4027-a520-8eae4bafcc9c"
      },
      "outputs": [
        {
          "name": "stderr",
          "output_type": "stream",
          "text": [
            "<ipython-input-12-6c2703a97f8b>:17: VisibleDeprecationWarning: Creating an ndarray from ragged nested sequences (which is a list-or-tuple of lists-or-tuples-or ndarrays with different lengths or shapes) is deprecated. If you meant to do this, you must specify 'dtype=object' when creating the ndarray.\n",
            "  training = np.array(training)\n"
          ]
        }
      ],
      "source": [
        "training = []\n",
        "lista = [0] * len(clases)\n",
        "lemmatizer = WordNetLemmatizer()\n",
        "\n",
        "for i, doc in enumerate(X):\n",
        "  bow = []\n",
        "  txt = lemmatizer.lemmatize(doc.lower())\n",
        "  # print(txt)\n",
        "  for word in w:\n",
        "    bow.append(1) if word not in txt else bow.append(0)\n",
        "\n",
        "  out = list(lista)\n",
        "  out[clases.index(y[i])] = 1\n",
        "  training.append([bow, out])\n",
        "\n",
        "np.random.shuffle(training)\n",
        "training = np.array(training)\n",
        "\n",
        "# X_train = torch.FloatTensor(list(training[:, 0]))\n",
        "# y_train = torch.FloatTensor(list(training[:, 1]))\n",
        "X_train = np.array(list(training[:, 0]))\n",
        "y_train = np.array(list(training[:, 1]))"
      ]
    },
    {
      "cell_type": "code",
      "execution_count": 13,
      "metadata": {
        "colab": {
          "base_uri": "https://localhost:8080/"
        },
        "id": "CZE7AfbDLLFv",
        "outputId": "1045cfde-8f69-4881-ed33-6e6ea6c88849"
      },
      "outputs": [
        {
          "data": {
            "text/plain": [
              "(8490,)"
            ]
          },
          "execution_count": 13,
          "metadata": {},
          "output_type": "execute_result"
        }
      ],
      "source": [
        "(X_train[0]).shape"
      ]
    },
    {
      "cell_type": "code",
      "execution_count": 14,
      "metadata": {
        "colab": {
          "base_uri": "https://localhost:8080/"
        },
        "id": "VIIAOgu51R6D",
        "outputId": "f5b77716-7470-413d-cd4c-dfd18b75a008"
      },
      "outputs": [
        {
          "data": {
            "text/plain": [
              "(22,)"
            ]
          },
          "execution_count": 14,
          "metadata": {},
          "output_type": "execute_result"
        }
      ],
      "source": [
        "y_train[0].shape"
      ]
    },
    {
      "cell_type": "markdown",
      "metadata": {
        "id": "XTtsy2NC_TuS"
      },
      "source": [
        "Creamos la un perceptrón multicapas, al ser una representación no tan avanzada del lenguaje, no requerimos una red recurrente, en el codigo explicamos linea por linea"
      ]
    },
    {
      "cell_type": "code",
      "execution_count": 15,
      "metadata": {
        "colab": {
          "base_uri": "https://localhost:8080/"
        },
        "id": "-Y0JKUZYwIUR",
        "outputId": "64490373-3391-4005-e4e7-51b46f5c8f69"
      },
      "outputs": [
        {
          "name": "stdout",
          "output_type": "stream",
          "text": [
            "Model: \"sequential\"\n",
            "_________________________________________________________________\n",
            " Layer (type)                Output Shape              Param #   \n",
            "=================================================================\n",
            " dense (Dense)               (None, 128)               1086848   \n",
            "                                                                 \n",
            " dense_1 (Dense)             (None, 64)                8256      \n",
            "                                                                 \n",
            " dense_2 (Dense)             (None, 22)                1430      \n",
            "                                                                 \n",
            "=================================================================\n",
            "Total params: 1,096,534\n",
            "Trainable params: 1,096,534\n",
            "Non-trainable params: 0\n",
            "_________________________________________________________________\n",
            "None\n"
          ]
        }
      ],
      "source": [
        "model = Sequential()\n",
        "model.add(Dense(128, input_shape=(len(X_train[0]),), activation='relu')) # creamos una capa de entrada con activación ReLU\n",
        "model.add(Dense(64, activation='relu')) # la capa oculta, con activación ReLU\n",
        "model.add(Dense(len(y_train[0]), activation='softmax')) # y al ultima capa tiene una activación softmax\n",
        "\n",
        "# para el optimizador usamos ADAM, \n",
        "#pero se puede usar cualquier variante del descenso por el gradiente\n",
        "adam = tf.keras.optimizers.Adam(learning_rate=0.01) \n",
        "\n",
        "model.compile(loss='categorical_crossentropy', # usamos categorical_crossentropy porque nuestro problemas es de clasificacion\n",
        "              optimizer=adam,\n",
        "              metrics=['accuracy'])\n",
        "print(model.summary())"
      ]
    },
    {
      "cell_type": "code",
      "execution_count": 16,
      "metadata": {
        "colab": {
          "base_uri": "https://localhost:8080/"
        },
        "id": "OEkB4wAq05f7",
        "outputId": "87d7a19c-5a3a-4182-853b-4a67cd01ed5a"
      },
      "outputs": [
        {
          "name": "stdout",
          "output_type": "stream",
          "text": [
            "Epoch 1/150\n",
            "10/10 [==============================] - 1s 23ms/step - loss: 51.8190 - accuracy: 0.3141\n",
            "Epoch 2/150\n",
            "10/10 [==============================] - 0s 20ms/step - loss: 8.2605 - accuracy: 0.5545\n",
            "Epoch 3/150\n",
            "10/10 [==============================] - 0s 19ms/step - loss: 2.5817 - accuracy: 0.7372\n",
            "Epoch 4/150\n",
            "10/10 [==============================] - 0s 17ms/step - loss: 1.1567 - accuracy: 0.7500\n",
            "Epoch 5/150\n",
            "10/10 [==============================] - 0s 17ms/step - loss: 0.7673 - accuracy: 0.7885\n",
            "Epoch 6/150\n",
            "10/10 [==============================] - 0s 19ms/step - loss: 0.7294 - accuracy: 0.7821\n",
            "Epoch 7/150\n",
            "10/10 [==============================] - 0s 19ms/step - loss: 0.6566 - accuracy: 0.7949\n",
            "Epoch 8/150\n",
            "10/10 [==============================] - 0s 17ms/step - loss: 0.6002 - accuracy: 0.7949\n",
            "Epoch 9/150\n",
            "10/10 [==============================] - 0s 18ms/step - loss: 0.5865 - accuracy: 0.8205\n",
            "Epoch 10/150\n",
            "10/10 [==============================] - 0s 17ms/step - loss: 0.5782 - accuracy: 0.8141\n",
            "Epoch 11/150\n",
            "10/10 [==============================] - 0s 15ms/step - loss: 0.5489 - accuracy: 0.8333\n",
            "Epoch 12/150\n",
            "10/10 [==============================] - 0s 17ms/step - loss: 0.5464 - accuracy: 0.8205\n",
            "Epoch 13/150\n",
            "10/10 [==============================] - 0s 19ms/step - loss: 0.5525 - accuracy: 0.8077\n",
            "Epoch 14/150\n",
            "10/10 [==============================] - 0s 16ms/step - loss: 0.5726 - accuracy: 0.8205\n",
            "Epoch 15/150\n",
            "10/10 [==============================] - 0s 16ms/step - loss: 0.5763 - accuracy: 0.8237\n",
            "Epoch 16/150\n",
            "10/10 [==============================] - 0s 17ms/step - loss: 0.5030 - accuracy: 0.8429\n",
            "Epoch 17/150\n",
            "10/10 [==============================] - 0s 17ms/step - loss: 0.5892 - accuracy: 0.8205\n",
            "Epoch 18/150\n",
            "10/10 [==============================] - 0s 18ms/step - loss: 0.5724 - accuracy: 0.8301\n",
            "Epoch 19/150\n",
            "10/10 [==============================] - 0s 17ms/step - loss: 0.5387 - accuracy: 0.8269\n",
            "Epoch 20/150\n",
            "10/10 [==============================] - 0s 18ms/step - loss: 0.6097 - accuracy: 0.8045\n",
            "Epoch 21/150\n",
            "10/10 [==============================] - 0s 18ms/step - loss: 0.5084 - accuracy: 0.8301\n",
            "Epoch 22/150\n",
            "10/10 [==============================] - 0s 17ms/step - loss: 0.4694 - accuracy: 0.8205\n",
            "Epoch 23/150\n",
            "10/10 [==============================] - 0s 19ms/step - loss: 0.4489 - accuracy: 0.8462\n",
            "Epoch 24/150\n",
            "10/10 [==============================] - 0s 18ms/step - loss: 0.4370 - accuracy: 0.8429\n",
            "Epoch 25/150\n",
            "10/10 [==============================] - 0s 15ms/step - loss: 0.4010 - accuracy: 0.8526\n",
            "Epoch 26/150\n",
            "10/10 [==============================] - 0s 19ms/step - loss: 0.4085 - accuracy: 0.8590\n",
            "Epoch 27/150\n",
            "10/10 [==============================] - 0s 17ms/step - loss: 0.3748 - accuracy: 0.8622\n",
            "Epoch 28/150\n",
            "10/10 [==============================] - 0s 16ms/step - loss: 0.4699 - accuracy: 0.8301\n",
            "Epoch 29/150\n",
            "10/10 [==============================] - 0s 16ms/step - loss: 0.4530 - accuracy: 0.8333\n",
            "Epoch 30/150\n",
            "10/10 [==============================] - 0s 18ms/step - loss: 0.3775 - accuracy: 0.8558\n",
            "Epoch 31/150\n",
            "10/10 [==============================] - 0s 17ms/step - loss: 0.3678 - accuracy: 0.8462\n",
            "Epoch 32/150\n",
            "10/10 [==============================] - 0s 17ms/step - loss: 0.3355 - accuracy: 0.8750\n",
            "Epoch 33/150\n",
            "10/10 [==============================] - 0s 18ms/step - loss: 0.3391 - accuracy: 0.8750\n",
            "Epoch 34/150\n",
            "10/10 [==============================] - 0s 17ms/step - loss: 0.3545 - accuracy: 0.8654\n",
            "Epoch 35/150\n",
            "10/10 [==============================] - 0s 20ms/step - loss: 0.3447 - accuracy: 0.8654\n",
            "Epoch 36/150\n",
            "10/10 [==============================] - 0s 18ms/step - loss: 0.3746 - accuracy: 0.8686\n",
            "Epoch 37/150\n",
            "10/10 [==============================] - 0s 18ms/step - loss: 0.3920 - accuracy: 0.8558\n",
            "Epoch 38/150\n",
            "10/10 [==============================] - 0s 17ms/step - loss: 0.3777 - accuracy: 0.8654\n",
            "Epoch 39/150\n",
            "10/10 [==============================] - 0s 17ms/step - loss: 0.3651 - accuracy: 0.8590\n",
            "Epoch 40/150\n",
            "10/10 [==============================] - 0s 25ms/step - loss: 0.3485 - accuracy: 0.8718\n",
            "Epoch 41/150\n",
            "10/10 [==============================] - 0s 28ms/step - loss: 0.3335 - accuracy: 0.8814\n",
            "Epoch 42/150\n",
            "10/10 [==============================] - 0s 29ms/step - loss: 0.3374 - accuracy: 0.8942\n",
            "Epoch 43/150\n",
            "10/10 [==============================] - 0s 25ms/step - loss: 0.3320 - accuracy: 0.8622\n",
            "Epoch 44/150\n",
            "10/10 [==============================] - 0s 27ms/step - loss: 0.3989 - accuracy: 0.8622\n",
            "Epoch 45/150\n",
            "10/10 [==============================] - 0s 28ms/step - loss: 0.3331 - accuracy: 0.8814\n",
            "Epoch 46/150\n",
            "10/10 [==============================] - 0s 24ms/step - loss: 0.3598 - accuracy: 0.8718\n",
            "Epoch 47/150\n",
            "10/10 [==============================] - 0s 27ms/step - loss: 0.3455 - accuracy: 0.8814\n",
            "Epoch 48/150\n",
            "10/10 [==============================] - 0s 25ms/step - loss: 0.3719 - accuracy: 0.8718\n",
            "Epoch 49/150\n",
            "10/10 [==============================] - 0s 26ms/step - loss: 0.3582 - accuracy: 0.8718\n",
            "Epoch 50/150\n",
            "10/10 [==============================] - 0s 27ms/step - loss: 0.3490 - accuracy: 0.8750\n",
            "Epoch 51/150\n",
            "10/10 [==============================] - 0s 19ms/step - loss: 0.3548 - accuracy: 0.8654\n",
            "Epoch 52/150\n",
            "10/10 [==============================] - 0s 16ms/step - loss: 0.3134 - accuracy: 0.9006\n",
            "Epoch 53/150\n",
            "10/10 [==============================] - 0s 16ms/step - loss: 0.2790 - accuracy: 0.9071\n",
            "Epoch 54/150\n",
            "10/10 [==============================] - 0s 17ms/step - loss: 0.3512 - accuracy: 0.8878\n",
            "Epoch 55/150\n",
            "10/10 [==============================] - 0s 19ms/step - loss: 0.3606 - accuracy: 0.8878\n",
            "Epoch 56/150\n",
            "10/10 [==============================] - 0s 18ms/step - loss: 0.3301 - accuracy: 0.8814\n",
            "Epoch 57/150\n",
            "10/10 [==============================] - 0s 18ms/step - loss: 0.3013 - accuracy: 0.8782\n",
            "Epoch 58/150\n",
            "10/10 [==============================] - 0s 21ms/step - loss: 0.2545 - accuracy: 0.9071\n",
            "Epoch 59/150\n",
            "10/10 [==============================] - 0s 17ms/step - loss: 0.2773 - accuracy: 0.9071\n",
            "Epoch 60/150\n",
            "10/10 [==============================] - 0s 18ms/step - loss: 0.3461 - accuracy: 0.8814\n",
            "Epoch 61/150\n",
            "10/10 [==============================] - 0s 16ms/step - loss: 0.3121 - accuracy: 0.9006\n",
            "Epoch 62/150\n",
            "10/10 [==============================] - 0s 16ms/step - loss: 0.2519 - accuracy: 0.9038\n",
            "Epoch 63/150\n",
            "10/10 [==============================] - 0s 19ms/step - loss: 0.2396 - accuracy: 0.9071\n",
            "Epoch 64/150\n",
            "10/10 [==============================] - 0s 17ms/step - loss: 0.2241 - accuracy: 0.9263\n",
            "Epoch 65/150\n",
            "10/10 [==============================] - 0s 17ms/step - loss: 0.2102 - accuracy: 0.9231\n",
            "Epoch 66/150\n",
            "10/10 [==============================] - 0s 18ms/step - loss: 0.2707 - accuracy: 0.8910\n",
            "Epoch 67/150\n",
            "10/10 [==============================] - 0s 18ms/step - loss: 0.4532 - accuracy: 0.8462\n",
            "Epoch 68/150\n",
            "10/10 [==============================] - 0s 17ms/step - loss: 0.3087 - accuracy: 0.8878\n",
            "Epoch 69/150\n",
            "10/10 [==============================] - 0s 17ms/step - loss: 0.2251 - accuracy: 0.9199\n",
            "Epoch 70/150\n",
            "10/10 [==============================] - 0s 16ms/step - loss: 0.2734 - accuracy: 0.9167\n",
            "Epoch 71/150\n",
            "10/10 [==============================] - 0s 17ms/step - loss: 0.2799 - accuracy: 0.9006\n",
            "Epoch 72/150\n",
            "10/10 [==============================] - 0s 18ms/step - loss: 0.2708 - accuracy: 0.8846\n",
            "Epoch 73/150\n",
            "10/10 [==============================] - 0s 18ms/step - loss: 0.2484 - accuracy: 0.9263\n",
            "Epoch 74/150\n",
            "10/10 [==============================] - 0s 17ms/step - loss: 0.2310 - accuracy: 0.9135\n",
            "Epoch 75/150\n",
            "10/10 [==============================] - 0s 19ms/step - loss: 0.2231 - accuracy: 0.9167\n",
            "Epoch 76/150\n",
            "10/10 [==============================] - 0s 14ms/step - loss: 0.2225 - accuracy: 0.9071\n",
            "Epoch 77/150\n",
            "10/10 [==============================] - 0s 18ms/step - loss: 0.2438 - accuracy: 0.9103\n",
            "Epoch 78/150\n",
            "10/10 [==============================] - 0s 17ms/step - loss: 0.2044 - accuracy: 0.9135\n",
            "Epoch 79/150\n",
            "10/10 [==============================] - 0s 16ms/step - loss: 0.1883 - accuracy: 0.9263\n",
            "Epoch 80/150\n",
            "10/10 [==============================] - 0s 18ms/step - loss: 0.1514 - accuracy: 0.9455\n",
            "Epoch 81/150\n",
            "10/10 [==============================] - 0s 18ms/step - loss: 0.1722 - accuracy: 0.9263\n",
            "Epoch 82/150\n",
            "10/10 [==============================] - 0s 19ms/step - loss: 0.1806 - accuracy: 0.9231\n",
            "Epoch 83/150\n",
            "10/10 [==============================] - 0s 19ms/step - loss: 0.2085 - accuracy: 0.9103\n",
            "Epoch 84/150\n",
            "10/10 [==============================] - 0s 18ms/step - loss: 0.1817 - accuracy: 0.9167\n",
            "Epoch 85/150\n",
            "10/10 [==============================] - 0s 17ms/step - loss: 0.2460 - accuracy: 0.9038\n",
            "Epoch 86/150\n",
            "10/10 [==============================] - 0s 15ms/step - loss: 0.2659 - accuracy: 0.8974\n",
            "Epoch 87/150\n",
            "10/10 [==============================] - 0s 17ms/step - loss: 0.2572 - accuracy: 0.8974\n",
            "Epoch 88/150\n",
            "10/10 [==============================] - 0s 18ms/step - loss: 0.2279 - accuracy: 0.9103\n",
            "Epoch 89/150\n",
            "10/10 [==============================] - 0s 16ms/step - loss: 0.1837 - accuracy: 0.9263\n",
            "Epoch 90/150\n",
            "10/10 [==============================] - 0s 17ms/step - loss: 0.1797 - accuracy: 0.9263\n",
            "Epoch 91/150\n",
            "10/10 [==============================] - 0s 18ms/step - loss: 0.1610 - accuracy: 0.9423\n",
            "Epoch 92/150\n",
            "10/10 [==============================] - 0s 16ms/step - loss: 0.1927 - accuracy: 0.9263\n",
            "Epoch 93/150\n",
            "10/10 [==============================] - 0s 17ms/step - loss: 0.2214 - accuracy: 0.9167\n",
            "Epoch 94/150\n",
            "10/10 [==============================] - 0s 18ms/step - loss: 0.2369 - accuracy: 0.9103\n",
            "Epoch 95/150\n",
            "10/10 [==============================] - 0s 16ms/step - loss: 0.2358 - accuracy: 0.8942\n",
            "Epoch 96/150\n",
            "10/10 [==============================] - 0s 18ms/step - loss: 0.1914 - accuracy: 0.9103\n",
            "Epoch 97/150\n",
            "10/10 [==============================] - 0s 16ms/step - loss: 0.2299 - accuracy: 0.9135\n",
            "Epoch 98/150\n",
            "10/10 [==============================] - 0s 18ms/step - loss: 0.1936 - accuracy: 0.9167\n",
            "Epoch 99/150\n",
            "10/10 [==============================] - 0s 16ms/step - loss: 0.2465 - accuracy: 0.8942\n",
            "Epoch 100/150\n",
            "10/10 [==============================] - 0s 17ms/step - loss: 0.5230 - accuracy: 0.8622\n",
            "Epoch 101/150\n",
            "10/10 [==============================] - 0s 17ms/step - loss: 0.4349 - accuracy: 0.8750\n",
            "Epoch 102/150\n",
            "10/10 [==============================] - 0s 18ms/step - loss: 0.5078 - accuracy: 0.8301\n",
            "Epoch 103/150\n",
            "10/10 [==============================] - 0s 18ms/step - loss: 0.5964 - accuracy: 0.8269\n",
            "Epoch 104/150\n",
            "10/10 [==============================] - 0s 19ms/step - loss: 0.7020 - accuracy: 0.8205\n",
            "Epoch 105/150\n",
            "10/10 [==============================] - 0s 17ms/step - loss: 0.5578 - accuracy: 0.8237\n",
            "Epoch 106/150\n",
            "10/10 [==============================] - 0s 21ms/step - loss: 0.4474 - accuracy: 0.8526\n",
            "Epoch 107/150\n",
            "10/10 [==============================] - 0s 25ms/step - loss: 0.3730 - accuracy: 0.8846\n",
            "Epoch 108/150\n",
            "10/10 [==============================] - 0s 27ms/step - loss: 0.3072 - accuracy: 0.8878\n",
            "Epoch 109/150\n",
            "10/10 [==============================] - 0s 25ms/step - loss: 0.2941 - accuracy: 0.8910\n",
            "Epoch 110/150\n",
            "10/10 [==============================] - 0s 27ms/step - loss: 0.3273 - accuracy: 0.8910\n",
            "Epoch 111/150\n",
            "10/10 [==============================] - 0s 26ms/step - loss: 0.3007 - accuracy: 0.8846\n",
            "Epoch 112/150\n",
            "10/10 [==============================] - 0s 27ms/step - loss: 0.2266 - accuracy: 0.9006\n",
            "Epoch 113/150\n",
            "10/10 [==============================] - 0s 27ms/step - loss: 0.1932 - accuracy: 0.9103\n",
            "Epoch 114/150\n",
            "10/10 [==============================] - 0s 26ms/step - loss: 0.1758 - accuracy: 0.9135\n",
            "Epoch 115/150\n",
            "10/10 [==============================] - 0s 26ms/step - loss: 0.1601 - accuracy: 0.9263\n",
            "Epoch 116/150\n",
            "10/10 [==============================] - 0s 25ms/step - loss: 0.1553 - accuracy: 0.9295\n",
            "Epoch 117/150\n",
            "10/10 [==============================] - 0s 30ms/step - loss: 0.1733 - accuracy: 0.9135\n",
            "Epoch 118/150\n",
            "10/10 [==============================] - 0s 21ms/step - loss: 0.1542 - accuracy: 0.9231\n",
            "Epoch 119/150\n",
            "10/10 [==============================] - 0s 17ms/step - loss: 0.1291 - accuracy: 0.9615\n",
            "Epoch 120/150\n",
            "10/10 [==============================] - 0s 19ms/step - loss: 0.1208 - accuracy: 0.9455\n",
            "Epoch 121/150\n",
            "10/10 [==============================] - 0s 17ms/step - loss: 0.1607 - accuracy: 0.9391\n",
            "Epoch 122/150\n",
            "10/10 [==============================] - 0s 19ms/step - loss: 0.2015 - accuracy: 0.9199\n",
            "Epoch 123/150\n",
            "10/10 [==============================] - 0s 19ms/step - loss: 0.1953 - accuracy: 0.9167\n",
            "Epoch 124/150\n",
            "10/10 [==============================] - 0s 17ms/step - loss: 0.1713 - accuracy: 0.9167\n",
            "Epoch 125/150\n",
            "10/10 [==============================] - 0s 17ms/step - loss: 0.1769 - accuracy: 0.9231\n",
            "Epoch 126/150\n",
            "10/10 [==============================] - 0s 17ms/step - loss: 0.1447 - accuracy: 0.9391\n",
            "Epoch 127/150\n",
            "10/10 [==============================] - 0s 16ms/step - loss: 0.1338 - accuracy: 0.9295\n",
            "Epoch 128/150\n",
            "10/10 [==============================] - 0s 17ms/step - loss: 0.1238 - accuracy: 0.9423\n",
            "Epoch 129/150\n",
            "10/10 [==============================] - 0s 19ms/step - loss: 0.1205 - accuracy: 0.9487\n",
            "Epoch 130/150\n",
            "10/10 [==============================] - 0s 17ms/step - loss: 0.1271 - accuracy: 0.9519\n",
            "Epoch 131/150\n",
            "10/10 [==============================] - 0s 17ms/step - loss: 0.1166 - accuracy: 0.9487\n",
            "Epoch 132/150\n",
            "10/10 [==============================] - 0s 16ms/step - loss: 0.1185 - accuracy: 0.9423\n",
            "Epoch 133/150\n",
            "10/10 [==============================] - 0s 19ms/step - loss: 0.1178 - accuracy: 0.9519\n",
            "Epoch 134/150\n",
            "10/10 [==============================] - 0s 19ms/step - loss: 0.1499 - accuracy: 0.9359\n",
            "Epoch 135/150\n",
            "10/10 [==============================] - 0s 17ms/step - loss: 0.2483 - accuracy: 0.9103\n",
            "Epoch 136/150\n",
            "10/10 [==============================] - 0s 16ms/step - loss: 0.2265 - accuracy: 0.9071\n",
            "Epoch 137/150\n",
            "10/10 [==============================] - 0s 17ms/step - loss: 0.2057 - accuracy: 0.9295\n",
            "Epoch 138/150\n",
            "10/10 [==============================] - 0s 19ms/step - loss: 0.2336 - accuracy: 0.9071\n",
            "Epoch 139/150\n",
            "10/10 [==============================] - 0s 18ms/step - loss: 0.2872 - accuracy: 0.8974\n",
            "Epoch 140/150\n",
            "10/10 [==============================] - 0s 18ms/step - loss: 0.1960 - accuracy: 0.9263\n",
            "Epoch 141/150\n",
            "10/10 [==============================] - 0s 18ms/step - loss: 0.3392 - accuracy: 0.9006\n",
            "Epoch 142/150\n",
            "10/10 [==============================] - 0s 17ms/step - loss: 0.2797 - accuracy: 0.8782\n",
            "Epoch 143/150\n",
            "10/10 [==============================] - 0s 16ms/step - loss: 0.2967 - accuracy: 0.8974\n",
            "Epoch 144/150\n",
            "10/10 [==============================] - 0s 17ms/step - loss: 0.2252 - accuracy: 0.9006\n",
            "Epoch 145/150\n",
            "10/10 [==============================] - 0s 17ms/step - loss: 0.2014 - accuracy: 0.9167\n",
            "Epoch 146/150\n",
            "10/10 [==============================] - 0s 20ms/step - loss: 0.1883 - accuracy: 0.9231\n",
            "Epoch 147/150\n",
            "10/10 [==============================] - 0s 18ms/step - loss: 0.1928 - accuracy: 0.9231\n",
            "Epoch 148/150\n",
            "10/10 [==============================] - 0s 17ms/step - loss: 0.1758 - accuracy: 0.9327\n",
            "Epoch 149/150\n",
            "10/10 [==============================] - 0s 18ms/step - loss: 0.1365 - accuracy: 0.9327\n",
            "Epoch 150/150\n",
            "10/10 [==============================] - 0s 17ms/step - loss: 0.1333 - accuracy: 0.9423\n"
          ]
        },
        {
          "data": {
            "text/plain": [
              "<keras.callbacks.History at 0x7fb30155e310>"
            ]
          },
          "execution_count": 16,
          "metadata": {},
          "output_type": "execute_result"
        }
      ],
      "source": [
        "model.fit(x=X_train, y=y_train, epochs=150, verbose=1)"
      ]
    },
    {
      "cell_type": "code",
      "execution_count": 26,
      "metadata": {
        "id": "uroA30Ws1f1d"
      },
      "outputs": [],
      "source": [
        "# limpiamos el texto que introduzca el usuario\n",
        "def clean_text(text):\n",
        "  tokens = nltk.word_tokenize(text)\n",
        "  tokens = [lemmatizer.lemmatize(word) for word in tokens]\n",
        "  return tokens\n",
        "\n",
        "# creamos una bolsa de palabras para la entrada\n",
        "def bag_of_words(text, voc):\n",
        "  tok = clean_text(text)\n",
        "  bow = [0] * len(voc)\n",
        "  for w in tok:\n",
        "    for i, w in enumerate(voc):\n",
        "      if word == w:\n",
        "        bow[i] = 1\n",
        "  return np.array(bow)\n",
        "\n",
        "# asignamos clases con la bolsa de palabras\n",
        "def clase(text, voc, labels):\n",
        "  bow = bag_of_words(text, voc)\n",
        "  pred = model.predict(np.array([bow]))[0]\n",
        "  thresh = 0.5\n",
        "  y_pred = [[i, res] for i, res in enumerate(pred) if res > thresh]\n",
        "  y_pred.sort(key=lambda x: x[1], reverse=True)\n",
        "\n",
        "  lista = []\n",
        "  for r in y_pred:\n",
        "    lista.append(labels[r[0]])\n",
        "  return lista\n",
        "\n",
        "# creamos la pregunta y respuesta \n",
        "def pregunta_respuesta(intenciones, intenciones_json):\n",
        "  if len(intenciones) == 0:\n",
        "    result = \"Pregunta de nuevo\"\n",
        "  else:\n",
        "    tag = intenciones[0]\n",
        "    lista_intenciones = intenciones_json['intents']\n",
        "\n",
        "    for intent in lista_intenciones:\n",
        "      if i[intent] ==tag:\n",
        "        result = np.random.choice(intent['text'])\n",
        "        break\n",
        "\n",
        "  return result "
      ]
    },
    {
      "cell_type": "code",
      "execution_count": 25,
      "metadata": {
        "colab": {
          "base_uri": "https://localhost:8080/",
          "height": 658
        },
        "id": "l-Z0FtmrFKxQ",
        "outputId": "a6e3f55a-192b-49fe-e61d-105e1939b8e9"
      },
      "outputs": [
        {
          "name": "stdout",
          "output_type": "stream",
          "text": [
            "hola\n"
          ]
        },
        {
          "ename": "ValueError",
          "evalue": "ignored",
          "output_type": "error",
          "traceback": [
            "\u001b[0;31m---------------------------------------------------------------------------\u001b[0m",
            "\u001b[0;31mValueError\u001b[0m                                Traceback (most recent call last)",
            "\u001b[0;32m<ipython-input-25-119a77cacda2>\u001b[0m in \u001b[0;36m<module>\u001b[0;34m\u001b[0m\n\u001b[1;32m      4\u001b[0m     \u001b[0;32mbreak\u001b[0m\u001b[0;34m\u001b[0m\u001b[0;34m\u001b[0m\u001b[0m\n\u001b[1;32m      5\u001b[0m \u001b[0;34m\u001b[0m\u001b[0m\n\u001b[0;32m----> 6\u001b[0;31m   \u001b[0mintents\u001b[0m \u001b[0;34m=\u001b[0m \u001b[0mclase\u001b[0m\u001b[0;34m(\u001b[0m\u001b[0mpregunta\u001b[0m\u001b[0;34m,\u001b[0m \u001b[0mpalabras\u001b[0m\u001b[0;34m,\u001b[0m \u001b[0mclase\u001b[0m\u001b[0;34m)\u001b[0m\u001b[0;34m\u001b[0m\u001b[0;34m\u001b[0m\u001b[0m\n\u001b[0m\u001b[1;32m      7\u001b[0m   \u001b[0mres\u001b[0m \u001b[0;34m=\u001b[0m \u001b[0mpregunta_respuesta\u001b[0m\u001b[0;34m\u001b[0m\u001b[0;34m\u001b[0m\u001b[0m\n\u001b[1;32m      8\u001b[0m   \u001b[0mprint\u001b[0m\u001b[0;34m(\u001b[0m\u001b[0mres\u001b[0m\u001b[0;34m)\u001b[0m\u001b[0;34m\u001b[0m\u001b[0;34m\u001b[0m\u001b[0m\n",
            "\u001b[0;32m<ipython-input-24-f4d4c18984cb>\u001b[0m in \u001b[0;36mclase\u001b[0;34m(text, voc, labels)\u001b[0m\n\u001b[1;32m     15\u001b[0m \u001b[0;32mdef\u001b[0m \u001b[0mclase\u001b[0m\u001b[0;34m(\u001b[0m\u001b[0mtext\u001b[0m\u001b[0;34m,\u001b[0m \u001b[0mvoc\u001b[0m\u001b[0;34m,\u001b[0m \u001b[0mlabels\u001b[0m\u001b[0;34m)\u001b[0m\u001b[0;34m:\u001b[0m\u001b[0;34m\u001b[0m\u001b[0;34m\u001b[0m\u001b[0m\n\u001b[1;32m     16\u001b[0m   \u001b[0mbow\u001b[0m \u001b[0;34m=\u001b[0m \u001b[0mbag_of_words\u001b[0m\u001b[0;34m(\u001b[0m\u001b[0mtext\u001b[0m\u001b[0;34m,\u001b[0m \u001b[0mvoc\u001b[0m\u001b[0;34m)\u001b[0m\u001b[0;34m\u001b[0m\u001b[0;34m\u001b[0m\u001b[0m\n\u001b[0;32m---> 17\u001b[0;31m   \u001b[0mpred\u001b[0m \u001b[0;34m=\u001b[0m \u001b[0mmodel\u001b[0m\u001b[0;34m.\u001b[0m\u001b[0mpredict\u001b[0m\u001b[0;34m(\u001b[0m\u001b[0mnp\u001b[0m\u001b[0;34m.\u001b[0m\u001b[0marray\u001b[0m\u001b[0;34m(\u001b[0m\u001b[0;34m[\u001b[0m\u001b[0mbow\u001b[0m\u001b[0;34m]\u001b[0m\u001b[0;34m)\u001b[0m\u001b[0;34m)\u001b[0m\u001b[0;34m[\u001b[0m\u001b[0;36m0\u001b[0m\u001b[0;34m]\u001b[0m\u001b[0;34m\u001b[0m\u001b[0;34m\u001b[0m\u001b[0m\n\u001b[0m\u001b[1;32m     18\u001b[0m   \u001b[0mthresh\u001b[0m \u001b[0;34m=\u001b[0m \u001b[0;36m0.5\u001b[0m\u001b[0;34m\u001b[0m\u001b[0;34m\u001b[0m\u001b[0m\n\u001b[1;32m     19\u001b[0m   \u001b[0my_pred\u001b[0m \u001b[0;34m=\u001b[0m \u001b[0;34m[\u001b[0m\u001b[0;34m[\u001b[0m\u001b[0mi\u001b[0m\u001b[0;34m,\u001b[0m \u001b[0mres\u001b[0m\u001b[0;34m]\u001b[0m \u001b[0;32mfor\u001b[0m \u001b[0mi\u001b[0m\u001b[0;34m,\u001b[0m \u001b[0mres\u001b[0m \u001b[0;32min\u001b[0m \u001b[0menumerate\u001b[0m\u001b[0;34m(\u001b[0m\u001b[0mpred\u001b[0m\u001b[0;34m)\u001b[0m \u001b[0;32mif\u001b[0m \u001b[0mres\u001b[0m \u001b[0;34m>\u001b[0m \u001b[0mthresh\u001b[0m\u001b[0;34m]\u001b[0m\u001b[0;34m\u001b[0m\u001b[0;34m\u001b[0m\u001b[0m\n",
            "\u001b[0;32m/usr/local/lib/python3.9/dist-packages/keras/utils/traceback_utils.py\u001b[0m in \u001b[0;36merror_handler\u001b[0;34m(*args, **kwargs)\u001b[0m\n\u001b[1;32m     68\u001b[0m             \u001b[0;31m# To get the full stack trace, call:\u001b[0m\u001b[0;34m\u001b[0m\u001b[0;34m\u001b[0m\u001b[0m\n\u001b[1;32m     69\u001b[0m             \u001b[0;31m# `tf.debugging.disable_traceback_filtering()`\u001b[0m\u001b[0;34m\u001b[0m\u001b[0;34m\u001b[0m\u001b[0m\n\u001b[0;32m---> 70\u001b[0;31m             \u001b[0;32mraise\u001b[0m \u001b[0me\u001b[0m\u001b[0;34m.\u001b[0m\u001b[0mwith_traceback\u001b[0m\u001b[0;34m(\u001b[0m\u001b[0mfiltered_tb\u001b[0m\u001b[0;34m)\u001b[0m \u001b[0;32mfrom\u001b[0m \u001b[0;32mNone\u001b[0m\u001b[0;34m\u001b[0m\u001b[0;34m\u001b[0m\u001b[0m\n\u001b[0m\u001b[1;32m     71\u001b[0m         \u001b[0;32mfinally\u001b[0m\u001b[0;34m:\u001b[0m\u001b[0;34m\u001b[0m\u001b[0;34m\u001b[0m\u001b[0m\n\u001b[1;32m     72\u001b[0m             \u001b[0;32mdel\u001b[0m \u001b[0mfiltered_tb\u001b[0m\u001b[0;34m\u001b[0m\u001b[0;34m\u001b[0m\u001b[0m\n",
            "\u001b[0;32m/usr/local/lib/python3.9/dist-packages/keras/engine/training.py\u001b[0m in \u001b[0;36mtf__predict_function\u001b[0;34m(iterator)\u001b[0m\n\u001b[1;32m     13\u001b[0m                 \u001b[0;32mtry\u001b[0m\u001b[0;34m:\u001b[0m\u001b[0;34m\u001b[0m\u001b[0;34m\u001b[0m\u001b[0m\n\u001b[1;32m     14\u001b[0m                     \u001b[0mdo_return\u001b[0m \u001b[0;34m=\u001b[0m \u001b[0;32mTrue\u001b[0m\u001b[0;34m\u001b[0m\u001b[0;34m\u001b[0m\u001b[0m\n\u001b[0;32m---> 15\u001b[0;31m                     \u001b[0mretval_\u001b[0m \u001b[0;34m=\u001b[0m \u001b[0mag__\u001b[0m\u001b[0;34m.\u001b[0m\u001b[0mconverted_call\u001b[0m\u001b[0;34m(\u001b[0m\u001b[0mag__\u001b[0m\u001b[0;34m.\u001b[0m\u001b[0mld\u001b[0m\u001b[0;34m(\u001b[0m\u001b[0mstep_function\u001b[0m\u001b[0;34m)\u001b[0m\u001b[0;34m,\u001b[0m \u001b[0;34m(\u001b[0m\u001b[0mag__\u001b[0m\u001b[0;34m.\u001b[0m\u001b[0mld\u001b[0m\u001b[0;34m(\u001b[0m\u001b[0mself\u001b[0m\u001b[0;34m)\u001b[0m\u001b[0;34m,\u001b[0m \u001b[0mag__\u001b[0m\u001b[0;34m.\u001b[0m\u001b[0mld\u001b[0m\u001b[0;34m(\u001b[0m\u001b[0miterator\u001b[0m\u001b[0;34m)\u001b[0m\u001b[0;34m)\u001b[0m\u001b[0;34m,\u001b[0m \u001b[0;32mNone\u001b[0m\u001b[0;34m,\u001b[0m \u001b[0mfscope\u001b[0m\u001b[0;34m)\u001b[0m\u001b[0;34m\u001b[0m\u001b[0;34m\u001b[0m\u001b[0m\n\u001b[0m\u001b[1;32m     16\u001b[0m                 \u001b[0;32mexcept\u001b[0m\u001b[0;34m:\u001b[0m\u001b[0;34m\u001b[0m\u001b[0;34m\u001b[0m\u001b[0m\n\u001b[1;32m     17\u001b[0m                     \u001b[0mdo_return\u001b[0m \u001b[0;34m=\u001b[0m \u001b[0;32mFalse\u001b[0m\u001b[0;34m\u001b[0m\u001b[0;34m\u001b[0m\u001b[0m\n",
            "\u001b[0;31mValueError\u001b[0m: in user code:\n\n    File \"/usr/local/lib/python3.9/dist-packages/keras/engine/training.py\", line 2137, in predict_function  *\n        return step_function(self, iterator)\n    File \"/usr/local/lib/python3.9/dist-packages/keras/engine/training.py\", line 2123, in step_function  **\n        outputs = model.distribute_strategy.run(run_step, args=(data,))\n    File \"/usr/local/lib/python3.9/dist-packages/keras/engine/training.py\", line 2111, in run_step  **\n        outputs = model.predict_step(data)\n    File \"/usr/local/lib/python3.9/dist-packages/keras/engine/training.py\", line 2079, in predict_step\n        return self(x, training=False)\n    File \"/usr/local/lib/python3.9/dist-packages/keras/utils/traceback_utils.py\", line 70, in error_handler\n        raise e.with_traceback(filtered_tb) from None\n    File \"/usr/local/lib/python3.9/dist-packages/keras/engine/input_spec.py\", line 295, in assert_input_compatibility\n        raise ValueError(\n\n    ValueError: Input 0 of layer \"sequential\" is incompatible with the layer: expected shape=(None, 8490), found shape=(None, 1602)\n"
          ]
        }
      ],
      "source": [
        "while True:\n",
        "  pregunta = input('')\n",
        "  if pregunta == \"0\":\n",
        "    break\n",
        "\n",
        "  intents = clase(pregunta, palabras, clase)\n",
        "  res = pregunta_respuesta(intents, )\n",
        "  print(res)"
      ]
    },
    {
      "cell_type": "code",
      "execution_count": null,
      "metadata": {
        "id": "nuab8Tl7FkSq"
      },
      "outputs": [],
      "source": []
    }
  ],
  "metadata": {
    "colab": {
      "provenance": []
    },
    "kernelspec": {
      "display_name": "Python 3",
      "name": "python3"
    },
    "language_info": {
      "name": "python"
    }
  },
  "nbformat": 4,
  "nbformat_minor": 0
}
