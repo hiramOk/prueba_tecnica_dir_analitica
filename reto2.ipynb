{
  "nbformat": 4,
  "nbformat_minor": 0,
  "metadata": {
    "colab": {
      "provenance": []
    },
    "kernelspec": {
      "name": "python3",
      "display_name": "Python 3"
    },
    "language_info": {
      "name": "python"
    },
    "gpuClass": "standard"
  },
  "cells": [
    {
      "cell_type": "markdown",
      "source": [
        "# Reto 2\n",
        "El Reconocimiento de Entidades Nombradas es la tarea de identificar y categorizar información (entidades) entre categorias predefinidas como pueden ser lugares, personas u organizaciones. </br>\n",
        "Para este reto, spacy para entrenar con nuestros conjuntos de datos, extraímos datos abiertos del gobierno de la siguiente fuente: https://sjf2.scjn.gob.mx/busqueda-principal-tesis"
      ],
      "metadata": {
        "id": "4AxCZ03bm5Yy"
      }
    },
    {
      "cell_type": "markdown",
      "source": [
        "# Imporatación de paqueterías"
      ],
      "metadata": {
        "id": "pda9yhaU6lIF"
      }
    },
    {
      "cell_type": "markdown",
      "source": [
        "Para extraer el texto de PDFs, usamos pymupdf una paquetería especializada en la manipulación de archivos entre ellos PDF"
      ],
      "metadata": {
        "id": "cN45HxBuVCH3"
      }
    },
    {
      "cell_type": "code",
      "source": [
        "!pip install pymupdf"
      ],
      "metadata": {
        "colab": {
          "base_uri": "https://localhost:8080/"
        },
        "id": "DfvcWEpaM1N-",
        "outputId": "64cdbef1-7bc3-4c86-ce81-e998645df30e"
      },
      "execution_count": 1,
      "outputs": [
        {
          "output_type": "stream",
          "name": "stdout",
          "text": [
            "Looking in indexes: https://pypi.org/simple, https://us-python.pkg.dev/colab-wheels/public/simple/\n",
            "Collecting pymupdf\n",
            "  Downloading PyMuPDF-1.21.1-cp39-cp39-manylinux_2_17_x86_64.manylinux2014_x86_64.whl (14.0 MB)\n",
            "\u001b[2K     \u001b[90m━━━━━━━━━━━━━━━━━━━━━━━━━━━━━━━━━━━━━━━━\u001b[0m \u001b[32m14.0/14.0 MB\u001b[0m \u001b[31m74.5 MB/s\u001b[0m eta \u001b[36m0:00:00\u001b[0m\n",
            "\u001b[?25hInstalling collected packages: pymupdf\n",
            "Successfully installed pymupdf-1.21.1\n"
          ]
        }
      ]
    },
    {
      "cell_type": "markdown",
      "source": [
        "Utilizamos <<spacy['transformers']>> para el entrenamiento de nuestro modelo NER"
      ],
      "metadata": {
        "id": "M26t3AYM1C99"
      }
    },
    {
      "cell_type": "code",
      "source": [
        "!pip install 'spacy[transformers]'"
      ],
      "metadata": {
        "colab": {
          "base_uri": "https://localhost:8080/"
        },
        "id": "deBIpi6oLAG9",
        "outputId": "a3afdc25-e485-41cf-e913-5274c6c3c3c6"
      },
      "execution_count": 2,
      "outputs": [
        {
          "output_type": "stream",
          "name": "stdout",
          "text": [
            "Looking in indexes: https://pypi.org/simple, https://us-python.pkg.dev/colab-wheels/public/simple/\n",
            "Requirement already satisfied: spacy[transformers] in /usr/local/lib/python3.9/dist-packages (3.5.1)\n",
            "Requirement already satisfied: thinc<8.2.0,>=8.1.8 in /usr/local/lib/python3.9/dist-packages (from spacy[transformers]) (8.1.9)\n",
            "Requirement already satisfied: langcodes<4.0.0,>=3.2.0 in /usr/local/lib/python3.9/dist-packages (from spacy[transformers]) (3.3.0)\n",
            "Requirement already satisfied: preshed<3.1.0,>=3.0.2 in /usr/local/lib/python3.9/dist-packages (from spacy[transformers]) (3.0.8)\n",
            "Requirement already satisfied: tqdm<5.0.0,>=4.38.0 in /usr/local/lib/python3.9/dist-packages (from spacy[transformers]) (4.65.0)\n",
            "Requirement already satisfied: pathy>=0.10.0 in /usr/local/lib/python3.9/dist-packages (from spacy[transformers]) (0.10.1)\n",
            "Requirement already satisfied: jinja2 in /usr/local/lib/python3.9/dist-packages (from spacy[transformers]) (3.1.2)\n",
            "Requirement already satisfied: setuptools in /usr/local/lib/python3.9/dist-packages (from spacy[transformers]) (63.4.3)\n",
            "Requirement already satisfied: numpy>=1.15.0 in /usr/local/lib/python3.9/dist-packages (from spacy[transformers]) (1.22.4)\n",
            "Requirement already satisfied: catalogue<2.1.0,>=2.0.6 in /usr/local/lib/python3.9/dist-packages (from spacy[transformers]) (2.0.8)\n",
            "Requirement already satisfied: srsly<3.0.0,>=2.4.3 in /usr/local/lib/python3.9/dist-packages (from spacy[transformers]) (2.4.6)\n",
            "Requirement already satisfied: pydantic!=1.8,!=1.8.1,<1.11.0,>=1.7.4 in /usr/local/lib/python3.9/dist-packages (from spacy[transformers]) (1.10.6)\n",
            "Requirement already satisfied: spacy-legacy<3.1.0,>=3.0.11 in /usr/local/lib/python3.9/dist-packages (from spacy[transformers]) (3.0.12)\n",
            "Requirement already satisfied: smart-open<7.0.0,>=5.2.1 in /usr/local/lib/python3.9/dist-packages (from spacy[transformers]) (6.3.0)\n",
            "Requirement already satisfied: murmurhash<1.1.0,>=0.28.0 in /usr/local/lib/python3.9/dist-packages (from spacy[transformers]) (1.0.9)\n",
            "Requirement already satisfied: packaging>=20.0 in /usr/local/lib/python3.9/dist-packages (from spacy[transformers]) (23.0)\n",
            "Requirement already satisfied: typer<0.8.0,>=0.3.0 in /usr/local/lib/python3.9/dist-packages (from spacy[transformers]) (0.7.0)\n",
            "Requirement already satisfied: wasabi<1.2.0,>=0.9.1 in /usr/local/lib/python3.9/dist-packages (from spacy[transformers]) (1.1.1)\n",
            "Requirement already satisfied: requests<3.0.0,>=2.13.0 in /usr/local/lib/python3.9/dist-packages (from spacy[transformers]) (2.27.1)\n",
            "Requirement already satisfied: spacy-loggers<2.0.0,>=1.0.0 in /usr/local/lib/python3.9/dist-packages (from spacy[transformers]) (1.0.4)\n",
            "Requirement already satisfied: cymem<2.1.0,>=2.0.2 in /usr/local/lib/python3.9/dist-packages (from spacy[transformers]) (2.0.7)\n",
            "Collecting spacy-transformers<1.3.0,>=1.1.2\n",
            "  Downloading spacy_transformers-1.2.2-cp39-cp39-manylinux_2_17_x86_64.manylinux2014_x86_64.whl (192 kB)\n",
            "\u001b[2K     \u001b[90m━━━━━━━━━━━━━━━━━━━━━━━━━━━━━━━━━━━━━━\u001b[0m \u001b[32m192.1/192.1 KB\u001b[0m \u001b[31m11.0 MB/s\u001b[0m eta \u001b[36m0:00:00\u001b[0m\n",
            "\u001b[?25hRequirement already satisfied: typing-extensions>=4.2.0 in /usr/local/lib/python3.9/dist-packages (from pydantic!=1.8,!=1.8.1,<1.11.0,>=1.7.4->spacy[transformers]) (4.5.0)\n",
            "Requirement already satisfied: idna<4,>=2.5 in /usr/local/lib/python3.9/dist-packages (from requests<3.0.0,>=2.13.0->spacy[transformers]) (3.4)\n",
            "Requirement already satisfied: charset-normalizer~=2.0.0 in /usr/local/lib/python3.9/dist-packages (from requests<3.0.0,>=2.13.0->spacy[transformers]) (2.0.12)\n",
            "Requirement already satisfied: urllib3<1.27,>=1.21.1 in /usr/local/lib/python3.9/dist-packages (from requests<3.0.0,>=2.13.0->spacy[transformers]) (1.26.15)\n",
            "Requirement already satisfied: certifi>=2017.4.17 in /usr/local/lib/python3.9/dist-packages (from requests<3.0.0,>=2.13.0->spacy[transformers]) (2022.12.7)\n",
            "Requirement already satisfied: torch>=1.8.0 in /usr/local/lib/python3.9/dist-packages (from spacy-transformers<1.3.0,>=1.1.2->spacy[transformers]) (1.13.1+cu116)\n",
            "Collecting spacy-alignments<1.0.0,>=0.7.2\n",
            "  Downloading spacy_alignments-0.9.0-cp39-cp39-manylinux_2_17_x86_64.manylinux2014_x86_64.whl (1.2 MB)\n",
            "\u001b[2K     \u001b[90m━━━━━━━━━━━━━━━━━━━━━━━━━━━━━━━━━━━━━━━━\u001b[0m \u001b[32m1.2/1.2 MB\u001b[0m \u001b[31m53.9 MB/s\u001b[0m eta \u001b[36m0:00:00\u001b[0m\n",
            "\u001b[?25hCollecting transformers<4.27.0,>=3.4.0\n",
            "  Downloading transformers-4.26.1-py3-none-any.whl (6.3 MB)\n",
            "\u001b[2K     \u001b[90m━━━━━━━━━━━━━━━━━━━━━━━━━━━━━━━━━━━━━━━━\u001b[0m \u001b[32m6.3/6.3 MB\u001b[0m \u001b[31m85.4 MB/s\u001b[0m eta \u001b[36m0:00:00\u001b[0m\n",
            "\u001b[?25hRequirement already satisfied: confection<1.0.0,>=0.0.1 in /usr/local/lib/python3.9/dist-packages (from thinc<8.2.0,>=8.1.8->spacy[transformers]) (0.0.4)\n",
            "Requirement already satisfied: blis<0.8.0,>=0.7.8 in /usr/local/lib/python3.9/dist-packages (from thinc<8.2.0,>=8.1.8->spacy[transformers]) (0.7.9)\n",
            "Requirement already satisfied: click<9.0.0,>=7.1.1 in /usr/local/lib/python3.9/dist-packages (from typer<0.8.0,>=0.3.0->spacy[transformers]) (8.1.3)\n",
            "Requirement already satisfied: MarkupSafe>=2.0 in /usr/local/lib/python3.9/dist-packages (from jinja2->spacy[transformers]) (2.1.2)\n",
            "Collecting tokenizers!=0.11.3,<0.14,>=0.11.1\n",
            "  Downloading tokenizers-0.13.2-cp39-cp39-manylinux_2_17_x86_64.manylinux2014_x86_64.whl (7.6 MB)\n",
            "\u001b[2K     \u001b[90m━━━━━━━━━━━━━━━━━━━━━━━━━━━━━━━━━━━━━━━━\u001b[0m \u001b[32m7.6/7.6 MB\u001b[0m \u001b[31m31.9 MB/s\u001b[0m eta \u001b[36m0:00:00\u001b[0m\n",
            "\u001b[?25hRequirement already satisfied: regex!=2019.12.17 in /usr/local/lib/python3.9/dist-packages (from transformers<4.27.0,>=3.4.0->spacy-transformers<1.3.0,>=1.1.2->spacy[transformers]) (2022.10.31)\n",
            "Collecting huggingface-hub<1.0,>=0.11.0\n",
            "  Downloading huggingface_hub-0.13.2-py3-none-any.whl (199 kB)\n",
            "\u001b[2K     \u001b[90m━━━━━━━━━━━━━━━━━━━━━━━━━━━━━━━━━━━━━━\u001b[0m \u001b[32m199.2/199.2 KB\u001b[0m \u001b[31m14.6 MB/s\u001b[0m eta \u001b[36m0:00:00\u001b[0m\n",
            "\u001b[?25hRequirement already satisfied: filelock in /usr/local/lib/python3.9/dist-packages (from transformers<4.27.0,>=3.4.0->spacy-transformers<1.3.0,>=1.1.2->spacy[transformers]) (3.10.0)\n",
            "Requirement already satisfied: pyyaml>=5.1 in /usr/local/lib/python3.9/dist-packages (from transformers<4.27.0,>=3.4.0->spacy-transformers<1.3.0,>=1.1.2->spacy[transformers]) (6.0)\n",
            "Installing collected packages: tokenizers, spacy-alignments, huggingface-hub, transformers, spacy-transformers\n",
            "Successfully installed huggingface-hub-0.13.2 spacy-alignments-0.9.0 spacy-transformers-1.2.2 tokenizers-0.13.2 transformers-4.26.1\n"
          ]
        }
      ]
    },
    {
      "cell_type": "code",
      "source": [
        "!python -m spacy download es_core_news_sm"
      ],
      "metadata": {
        "colab": {
          "base_uri": "https://localhost:8080/"
        },
        "id": "8BKhicEUxeGY",
        "outputId": "47005264-7508-40ff-f66d-cf4b9febe7a5"
      },
      "execution_count": 14,
      "outputs": [
        {
          "output_type": "stream",
          "name": "stdout",
          "text": [
            "/usr/local/lib/python3.9/dist-packages/torch/cuda/__init__.py:497: UserWarning: Can't initialize NVML\n",
            "  warnings.warn(\"Can't initialize NVML\")\n",
            "2023-03-18 03:32:10.493288: W tensorflow/compiler/xla/stream_executor/platform/default/dso_loader.cc:64] Could not load dynamic library 'libnvinfer.so.7'; dlerror: libnvinfer.so.7: cannot open shared object file: No such file or directory; LD_LIBRARY_PATH: /usr/local/nvidia/lib:/usr/local/nvidia/lib64\n",
            "2023-03-18 03:32:10.493428: W tensorflow/compiler/xla/stream_executor/platform/default/dso_loader.cc:64] Could not load dynamic library 'libnvinfer_plugin.so.7'; dlerror: libnvinfer_plugin.so.7: cannot open shared object file: No such file or directory; LD_LIBRARY_PATH: /usr/local/nvidia/lib:/usr/local/nvidia/lib64\n",
            "2023-03-18 03:32:10.493450: W tensorflow/compiler/tf2tensorrt/utils/py_utils.cc:38] TF-TRT Warning: Cannot dlopen some TensorRT libraries. If you would like to use Nvidia GPU with TensorRT, please make sure the missing libraries mentioned above are installed properly.\n",
            "2023-03-18 03:32:12.184982: E tensorflow/compiler/xla/stream_executor/cuda/cuda_driver.cc:267] failed call to cuInit: CUDA_ERROR_NO_DEVICE: no CUDA-capable device is detected\n",
            "Looking in indexes: https://pypi.org/simple, https://us-python.pkg.dev/colab-wheels/public/simple/\n",
            "Collecting es-core-news-sm==3.5.0\n",
            "  Downloading https://github.com/explosion/spacy-models/releases/download/es_core_news_sm-3.5.0/es_core_news_sm-3.5.0-py3-none-any.whl (12.9 MB)\n",
            "\u001b[2K     \u001b[90m━━━━━━━━━━━━━━━━━━━━━━━━━━━━━━━━━━━━━━━━\u001b[0m \u001b[32m12.9/12.9 MB\u001b[0m \u001b[31m33.7 MB/s\u001b[0m eta \u001b[36m0:00:00\u001b[0m\n",
            "\u001b[?25hRequirement already satisfied: spacy<3.6.0,>=3.5.0 in /usr/local/lib/python3.9/dist-packages (from es-core-news-sm==3.5.0) (3.5.1)\n",
            "Requirement already satisfied: catalogue<2.1.0,>=2.0.6 in /usr/local/lib/python3.9/dist-packages (from spacy<3.6.0,>=3.5.0->es-core-news-sm==3.5.0) (2.0.8)\n",
            "Requirement already satisfied: typer<0.8.0,>=0.3.0 in /usr/local/lib/python3.9/dist-packages (from spacy<3.6.0,>=3.5.0->es-core-news-sm==3.5.0) (0.7.0)\n",
            "Requirement already satisfied: numpy>=1.15.0 in /usr/local/lib/python3.9/dist-packages (from spacy<3.6.0,>=3.5.0->es-core-news-sm==3.5.0) (1.22.4)\n",
            "Requirement already satisfied: requests<3.0.0,>=2.13.0 in /usr/local/lib/python3.9/dist-packages (from spacy<3.6.0,>=3.5.0->es-core-news-sm==3.5.0) (2.27.1)\n",
            "Requirement already satisfied: thinc<8.2.0,>=8.1.8 in /usr/local/lib/python3.9/dist-packages (from spacy<3.6.0,>=3.5.0->es-core-news-sm==3.5.0) (8.1.9)\n",
            "Requirement already satisfied: langcodes<4.0.0,>=3.2.0 in /usr/local/lib/python3.9/dist-packages (from spacy<3.6.0,>=3.5.0->es-core-news-sm==3.5.0) (3.3.0)\n",
            "Requirement already satisfied: spacy-legacy<3.1.0,>=3.0.11 in /usr/local/lib/python3.9/dist-packages (from spacy<3.6.0,>=3.5.0->es-core-news-sm==3.5.0) (3.0.12)\n",
            "Requirement already satisfied: setuptools in /usr/local/lib/python3.9/dist-packages (from spacy<3.6.0,>=3.5.0->es-core-news-sm==3.5.0) (63.4.3)\n",
            "Requirement already satisfied: tqdm<5.0.0,>=4.38.0 in /usr/local/lib/python3.9/dist-packages (from spacy<3.6.0,>=3.5.0->es-core-news-sm==3.5.0) (4.65.0)\n",
            "Requirement already satisfied: murmurhash<1.1.0,>=0.28.0 in /usr/local/lib/python3.9/dist-packages (from spacy<3.6.0,>=3.5.0->es-core-news-sm==3.5.0) (1.0.9)\n",
            "Requirement already satisfied: cymem<2.1.0,>=2.0.2 in /usr/local/lib/python3.9/dist-packages (from spacy<3.6.0,>=3.5.0->es-core-news-sm==3.5.0) (2.0.7)\n",
            "Requirement already satisfied: smart-open<7.0.0,>=5.2.1 in /usr/local/lib/python3.9/dist-packages (from spacy<3.6.0,>=3.5.0->es-core-news-sm==3.5.0) (6.3.0)\n",
            "Requirement already satisfied: spacy-loggers<2.0.0,>=1.0.0 in /usr/local/lib/python3.9/dist-packages (from spacy<3.6.0,>=3.5.0->es-core-news-sm==3.5.0) (1.0.4)\n",
            "Requirement already satisfied: pathy>=0.10.0 in /usr/local/lib/python3.9/dist-packages (from spacy<3.6.0,>=3.5.0->es-core-news-sm==3.5.0) (0.10.1)\n",
            "Requirement already satisfied: pydantic!=1.8,!=1.8.1,<1.11.0,>=1.7.4 in /usr/local/lib/python3.9/dist-packages (from spacy<3.6.0,>=3.5.0->es-core-news-sm==3.5.0) (1.10.6)\n",
            "Requirement already satisfied: srsly<3.0.0,>=2.4.3 in /usr/local/lib/python3.9/dist-packages (from spacy<3.6.0,>=3.5.0->es-core-news-sm==3.5.0) (2.4.6)\n",
            "Requirement already satisfied: packaging>=20.0 in /usr/local/lib/python3.9/dist-packages (from spacy<3.6.0,>=3.5.0->es-core-news-sm==3.5.0) (23.0)\n",
            "Requirement already satisfied: jinja2 in /usr/local/lib/python3.9/dist-packages (from spacy<3.6.0,>=3.5.0->es-core-news-sm==3.5.0) (3.1.2)\n",
            "Requirement already satisfied: wasabi<1.2.0,>=0.9.1 in /usr/local/lib/python3.9/dist-packages (from spacy<3.6.0,>=3.5.0->es-core-news-sm==3.5.0) (1.1.1)\n",
            "Requirement already satisfied: preshed<3.1.0,>=3.0.2 in /usr/local/lib/python3.9/dist-packages (from spacy<3.6.0,>=3.5.0->es-core-news-sm==3.5.0) (3.0.8)\n",
            "Requirement already satisfied: typing-extensions>=4.2.0 in /usr/local/lib/python3.9/dist-packages (from pydantic!=1.8,!=1.8.1,<1.11.0,>=1.7.4->spacy<3.6.0,>=3.5.0->es-core-news-sm==3.5.0) (4.5.0)\n",
            "Requirement already satisfied: certifi>=2017.4.17 in /usr/local/lib/python3.9/dist-packages (from requests<3.0.0,>=2.13.0->spacy<3.6.0,>=3.5.0->es-core-news-sm==3.5.0) (2022.12.7)\n",
            "Requirement already satisfied: charset-normalizer~=2.0.0 in /usr/local/lib/python3.9/dist-packages (from requests<3.0.0,>=2.13.0->spacy<3.6.0,>=3.5.0->es-core-news-sm==3.5.0) (2.0.12)\n",
            "Requirement already satisfied: urllib3<1.27,>=1.21.1 in /usr/local/lib/python3.9/dist-packages (from requests<3.0.0,>=2.13.0->spacy<3.6.0,>=3.5.0->es-core-news-sm==3.5.0) (1.26.15)\n",
            "Requirement already satisfied: idna<4,>=2.5 in /usr/local/lib/python3.9/dist-packages (from requests<3.0.0,>=2.13.0->spacy<3.6.0,>=3.5.0->es-core-news-sm==3.5.0) (3.4)\n",
            "Requirement already satisfied: confection<1.0.0,>=0.0.1 in /usr/local/lib/python3.9/dist-packages (from thinc<8.2.0,>=8.1.8->spacy<3.6.0,>=3.5.0->es-core-news-sm==3.5.0) (0.0.4)\n",
            "Requirement already satisfied: blis<0.8.0,>=0.7.8 in /usr/local/lib/python3.9/dist-packages (from thinc<8.2.0,>=8.1.8->spacy<3.6.0,>=3.5.0->es-core-news-sm==3.5.0) (0.7.9)\n",
            "Requirement already satisfied: click<9.0.0,>=7.1.1 in /usr/local/lib/python3.9/dist-packages (from typer<0.8.0,>=0.3.0->spacy<3.6.0,>=3.5.0->es-core-news-sm==3.5.0) (8.1.3)\n",
            "Requirement already satisfied: MarkupSafe>=2.0 in /usr/local/lib/python3.9/dist-packages (from jinja2->spacy<3.6.0,>=3.5.0->es-core-news-sm==3.5.0) (2.1.2)\n",
            "Installing collected packages: es-core-news-sm\n",
            "Successfully installed es-core-news-sm-3.5.0\n",
            "\u001b[38;5;2m✔ Download and installation successful\u001b[0m\n",
            "You can now load the package via spacy.load('es_core_news_sm')\n"
          ]
        }
      ]
    },
    {
      "cell_type": "code",
      "execution_count": 3,
      "metadata": {
        "id": "a6OaqUMSDU-H",
        "colab": {
          "base_uri": "https://localhost:8080/"
        },
        "outputId": "0de8428a-126a-48f3-ee61-ce0c3d682cac"
      },
      "outputs": [
        {
          "output_type": "stream",
          "name": "stderr",
          "text": [
            "/usr/local/lib/python3.9/dist-packages/torch/cuda/__init__.py:497: UserWarning: Can't initialize NVML\n",
            "  warnings.warn(\"Can't initialize NVML\")\n"
          ]
        }
      ],
      "source": [
        "import pandas as pd\n",
        "import numpy as np\n",
        "import nltk\n",
        "import spacy\n",
        "import fitz\n",
        "import gensim\n",
        "import json\n",
        "from spacy import displacy\n",
        "from spacy.tokens import DocBin\n",
        "from tqdm import tqdm"
      ]
    },
    {
      "cell_type": "code",
      "source": [
        "doc_fitz = fitz.open(\"/content/Tesis2026147.pdf\") # usamos .open para leer el documento pdf"
      ],
      "metadata": {
        "id": "wGeK-JSSvDjQ"
      },
      "execution_count": 23,
      "outputs": []
    },
    {
      "cell_type": "code",
      "source": [
        "text1 = [page.get_text().replace(\"\\n\", \"\") for page in doc_fitz]\n",
        "text1 = ' '.join(text1)\n",
        "# text1"
      ],
      "metadata": {
        "id": "dAdVDscqvI4Q"
      },
      "execution_count": 25,
      "outputs": []
    },
    {
      "cell_type": "markdown",
      "source": [
        "train es la variable con la que vamos a entrenar el modelo, como estamos usando CPU para el entrenamiento es un proceso computacional tardado, pero se puede generalizar a n etiquetas."
      ],
      "metadata": {
        "id": "4jy9j6In1ydd"
      }
    },
    {
      "cell_type": "code",
      "source": [
        "nlp = spacy.blank(\"es\") # creamos un \"pipeline\" vacio de el lenguaje especificado, español en este caso\n",
        "train = [\n",
        "    ('Tesis    Registro digital: 2026047     COMPETENCIA ORIGINARIA DE LA SUPREMA CORTE DE JUSTICIA DE LA NACIÓN. DEBECONOCER DE UN AMPARO EN REVISIÓN CUANDO EXISTE UN PRECEDENTE VINCULANTEQUE SÓLO OTORGA UNA RESPUESTA PARCIAL A LA MATERIA DEL RECURSO.    Hechos: Una persona moral presentó ante la Comisión Federal para la Protección contra RiesgosSanitarios (COFEPRIS) diversas solicitudes de evaluación sanitaria para la importación de distintosproductos, entre ellos, de aceite de cáñamo con concentración de 55 % (cincuenta y cinco porciento) de cannabidiol (CBD) libre de tetrahidrocannabinol (THC) como insumo para procesosindustriales, la cual fue rechazada, con fundamento en los artículos 234, 235 y 235 Bis de la LeyGeneral de Salud. El Juez de Distrito negó el amparo e inconforme la parte quejosa interpusorecurso de revisión que fue remitido por el Tribunal Colegiado de Circuito del conocimiento a esteAlto Tribunal al observar que los precedentes sobre el tema no resolvían la totalidad de lascuestiones constitucionales subsistentes. Criterio jurídico: La Primera Sala de la Suprema Corte de Justicia de la Nación determina quecuando no exista un precedente vinculante que, en términos del artículo 94, párrafo décimosegundo, de la Constitución General, resuelva la totalidad de las interrogantes constitucionalessubsistentes respecto de una ley federal, debe reservar competencia originaria para que sea laSuprema Corte de Justicia de la Nación la que decida, conforme a la lógica de un sistema deprecedentes, si es necesario explorar los alcances de su criterio, si éste se aplica analógicamente, obien, si debe distinguirse para otorgar una respuesta diferenciada. Justificación: Debe recordarse que de conformidad con el artículo 94 constitucional, las razones quejustifiquen las decisiones contenidas en las sentencias dictadas por las Salas de esta SupremaCorte de Justicia de la Nación por mayoría de cuatro votos serán obligatorias para todas lasautoridades jurisdiccionales de la Federación y de las entidades federativas, en cuyo caso los casosfuturos que versen sobre el mismo punto no actualizarán la competencia originaria de esta Cortepara conocer del recurso de revisión respectivo en el juicio de amparo, sino del Tribunal Colegiadode Circuito correspondiente. Sin embargo, existen ocasiones en que la materia del recurso derevisión no logra resolverse exhaustivamente mediante la aplicación de un precedente, en cuyocaso el Tribunal Colegiado debe reservar competencia a este Alto Tribunal para que evalúe la litisconstitucional con el fin de determinar si subsisten cuestiones inéditas, o bien, si es necesario paraavanzar en la construcción de su doctrina. Al realizarse esta evaluación, no sólo pueden suscitarselos dos escenarios claros, en los cuales o bien el problema de constitucionalidad planteado fueabordado con exhaustividad por un criterio previo o no lo fue, sino también casos en los cuales lalitis subsistente en el recurso de revisión sea abordado parcialmente por ejecutorias pasadas. Enesa tercera categoría de casos, esta Corte debe identificar las cuestiones inéditas y, de considerarloprocedente, asumir su competencia originaria. En su caso, si un criterio sirve para dirigir la soluciónInstancia: Primera SalaUndécima ÉpocaMateria(s): Constitucional,ComúnTesis: 1a./J. 34/2023 (11a.)Fuente: Semanario Judicial de laFederación.Tipo: JurisprudenciaSemanario Judicial de la Federaciónhttp://sjf2.scjn.gob.mx/detalle/tesis/2026047Pág. 1 de 2Fecha de impresión 06/03/2023 de la revisión, ello sería posible por su aplicación analógica, lo que estaría sujeto a unaargumentación dirigida a justificar su extensión, lo que es muy propio del sistema de precedentes,que es la que correspondería al fondo del asunto. PRIMERA SALA.    Amparo en revisión 461/2020. 25 de mayo de 2022. Mayoría de cuatro votos de los Ministros JuanLuis González Alcántara Carrancá, Jorge Mario Pardo Rebolledo, quien formuló voto concurrente yAlfredo Gutiérrez Ortiz Mena, y la Ministra Ana Margarita Ríos Farjat. Disidente: Ministra NormaLucía Piña Hernández, quien formuló voto particular. Ponente: Ministro Alfredo Gutiérrez OrtizMena. Secretario: David García Sarubbi. Tesis de jurisprudencia 34/2023 (11a.). Aprobada por la Primera Sala de este Alto Tribunal, ensesión privada de veintidós de febrero de dos mil veintitrés.    Esta tesis se publicó el viernes 03 de marzo de 2023 a las 10:06 horas en el Semanario Judicial dela Federación y, por ende, se considera de aplicación obligatoria a partir del lunes 06 de marzo de2023, para los efectos previstos en el punto noveno del Acuerdo General Plenario 1/2021.Semanario Judicial de la Federaciónhttp://sjf2.scjn.gob.mx/detalle/tesis/2026047Pág. 2 de 2Fecha de impresión 06/03/2023',\n",
        "  [(355, 363, 'ORGANIZACION')],)\n",
        "]\n"
      ],
      "metadata": {
        "id": "3qE97O3vA5Pi"
      },
      "execution_count": 9,
      "outputs": []
    },
    {
      "cell_type": "markdown",
      "source": [
        "spacy solo acepta documentos docbin, por lo tanto cremos un docbin y cargamos los datos a este documento"
      ],
      "metadata": {
        "id": "JEoThqwc4xZs"
      }
    },
    {
      "cell_type": "code",
      "source": [
        "db = DocBin()\n",
        "for text, annotations in tqdm(train):\n",
        "    doc = nlp(text)\n",
        "    ents = []\n",
        "    for start, end, label in annotations:\n",
        "        span = doc.char_span(start, end, label=label)\n",
        "        ents.append(span)\n",
        "    doc.ents = ents\n",
        "    db.add(doc)\n",
        "db.to_disk(\"./train.spacy\")"
      ],
      "metadata": {
        "id": "DhV7_nNWAil-",
        "colab": {
          "base_uri": "https://localhost:8080/"
        },
        "outputId": "d43dfef8-2813-4151-f13a-872234431094"
      },
      "execution_count": 18,
      "outputs": [
        {
          "output_type": "stream",
          "name": "stderr",
          "text": [
            "100%|██████████| 1/1 [00:00<00:00, 147.90it/s]\n"
          ]
        }
      ]
    },
    {
      "cell_type": "code",
      "source": [
        "!python -m spacy init fill-config base_config.cfg config.cfg"
      ],
      "metadata": {
        "id": "_7xfpd2NF1IF",
        "colab": {
          "base_uri": "https://localhost:8080/"
        },
        "outputId": "13173222-69d5-490b-ef76-6dfe6da63af7"
      },
      "execution_count": 19,
      "outputs": [
        {
          "output_type": "stream",
          "name": "stdout",
          "text": [
            "/usr/local/lib/python3.9/dist-packages/torch/cuda/__init__.py:497: UserWarning: Can't initialize NVML\n",
            "  warnings.warn(\"Can't initialize NVML\")\n",
            "2023-03-18 03:34:32.493430: W tensorflow/compiler/xla/stream_executor/platform/default/dso_loader.cc:64] Could not load dynamic library 'libnvinfer.so.7'; dlerror: libnvinfer.so.7: cannot open shared object file: No such file or directory; LD_LIBRARY_PATH: /usr/local/nvidia/lib:/usr/local/nvidia/lib64\n",
            "2023-03-18 03:34:32.493544: W tensorflow/compiler/xla/stream_executor/platform/default/dso_loader.cc:64] Could not load dynamic library 'libnvinfer_plugin.so.7'; dlerror: libnvinfer_plugin.so.7: cannot open shared object file: No such file or directory; LD_LIBRARY_PATH: /usr/local/nvidia/lib:/usr/local/nvidia/lib64\n",
            "2023-03-18 03:34:32.493563: W tensorflow/compiler/tf2tensorrt/utils/py_utils.cc:38] TF-TRT Warning: Cannot dlopen some TensorRT libraries. If you would like to use Nvidia GPU with TensorRT, please make sure the missing libraries mentioned above are installed properly.\n",
            "2023-03-18 03:34:34.238921: E tensorflow/compiler/xla/stream_executor/cuda/cuda_driver.cc:267] failed call to cuInit: CUDA_ERROR_NO_DEVICE: no CUDA-capable device is detected\n",
            "\u001b[38;5;2m✔ Auto-filled config with all values\u001b[0m\n",
            "\u001b[38;5;2m✔ Saved config\u001b[0m\n",
            "config.cfg\n",
            "You can now add your data and train your pipeline:\n",
            "python -m spacy train config.cfg --paths.train ./train.spacy --paths.dev ./dev.spacy\n"
          ]
        }
      ]
    },
    {
      "cell_type": "markdown",
      "source": [
        "Entrenamos el modelo con un archivo base_config.cfg, que se puede generar desde la pagina de spacy: https://spacy.io/usage/training#quickstart"
      ],
      "metadata": {
        "id": "kO8SrkAw46du"
      }
    },
    {
      "cell_type": "code",
      "source": [
        "!python -m spacy train config.cfg --output ./output --paths.train ./train.spacy --paths.dev ./train.spacy"
      ],
      "metadata": {
        "id": "WUVaHgwNLVcx",
        "colab": {
          "base_uri": "https://localhost:8080/"
        },
        "outputId": "ee54441e-3ce7-4733-d34f-041c08f0585e"
      },
      "execution_count": 20,
      "outputs": [
        {
          "output_type": "stream",
          "name": "stdout",
          "text": [
            "/usr/local/lib/python3.9/dist-packages/torch/cuda/__init__.py:497: UserWarning: Can't initialize NVML\n",
            "  warnings.warn(\"Can't initialize NVML\")\n",
            "2023-03-18 03:34:39.727146: W tensorflow/compiler/xla/stream_executor/platform/default/dso_loader.cc:64] Could not load dynamic library 'libnvinfer.so.7'; dlerror: libnvinfer.so.7: cannot open shared object file: No such file or directory; LD_LIBRARY_PATH: /usr/local/nvidia/lib:/usr/local/nvidia/lib64\n",
            "2023-03-18 03:34:39.727324: W tensorflow/compiler/xla/stream_executor/platform/default/dso_loader.cc:64] Could not load dynamic library 'libnvinfer_plugin.so.7'; dlerror: libnvinfer_plugin.so.7: cannot open shared object file: No such file or directory; LD_LIBRARY_PATH: /usr/local/nvidia/lib:/usr/local/nvidia/lib64\n",
            "2023-03-18 03:34:39.727350: W tensorflow/compiler/tf2tensorrt/utils/py_utils.cc:38] TF-TRT Warning: Cannot dlopen some TensorRT libraries. If you would like to use Nvidia GPU with TensorRT, please make sure the missing libraries mentioned above are installed properly.\n",
            "2023-03-18 03:34:42.308584: E tensorflow/compiler/xla/stream_executor/cuda/cuda_driver.cc:267] failed call to cuInit: CUDA_ERROR_NO_DEVICE: no CUDA-capable device is detected\n",
            "\u001b[38;5;4mℹ Saving to output directory: output\u001b[0m\n",
            "\u001b[38;5;4mℹ Using CPU\u001b[0m\n",
            "\u001b[1m\n",
            "=========================== Initializing pipeline ===========================\u001b[0m\n",
            "[2023-03-18 03:34:43,423] [INFO] Set up nlp object from config\n",
            "[2023-03-18 03:34:43,435] [INFO] Pipeline: ['tok2vec', 'ner']\n",
            "[2023-03-18 03:34:43,439] [INFO] Created vocabulary\n",
            "[2023-03-18 03:34:43,440] [INFO] Finished initializing nlp object\n",
            "[2023-03-18 03:34:43,650] [INFO] Initialized pipeline components: ['tok2vec', 'ner']\n",
            "\u001b[38;5;2m✔ Initialized pipeline\u001b[0m\n",
            "\u001b[1m\n",
            "============================= Training pipeline =============================\u001b[0m\n",
            "\u001b[38;5;4mℹ Pipeline: ['tok2vec', 'ner']\u001b[0m\n",
            "\u001b[38;5;4mℹ Initial learn rate: 0.001\u001b[0m\n",
            "E    #       LOSS TOK2VEC  LOSS NER  ENTS_F  ENTS_P  ENTS_R  SCORE \n",
            "---  ------  ------------  --------  ------  ------  ------  ------\n",
            "  0       0          0.00    261.50    0.00    0.00    0.00    0.00\n",
            "200     200          7.23   4354.53  100.00  100.00  100.00    1.00\n",
            "400     400          0.00      0.00  100.00  100.00  100.00    1.00\n",
            "600     600          0.00      0.00  100.00  100.00  100.00    1.00\n",
            "800     800          0.00      0.00  100.00  100.00  100.00    1.00\n",
            "1000    1000          0.00      0.00  100.00  100.00  100.00    1.00\n",
            "1200    1200          0.00      0.00  100.00  100.00  100.00    1.00\n",
            "1400    1400          0.00      0.00  100.00  100.00  100.00    1.00\n",
            "1600    1600          0.00      0.00  100.00  100.00  100.00    1.00\n",
            "1800    1800          0.00      0.00  100.00  100.00  100.00    1.00\n",
            "\u001b[38;5;2m✔ Saved pipeline to output directory\u001b[0m\n",
            "output/model-last\n"
          ]
        }
      ]
    },
    {
      "cell_type": "markdown",
      "source": [
        "# Carga de modelos\n",
        "Usamos el mejor modelo entrenado, sin embargo, se puede notar que se entrenó con una sola etiqueta, esto lo hice porque el modelo tardaba horas en entrenarse con un conjunto de datos mas grande (incluso tardo 5 minutos con solo una etiqueta); aun así esto ejemplifica bien sobre como se puede hacer tu propio modelo de entidad de relaciones nombradas"
      ],
      "metadata": {
        "id": "6IWYInBhynsF"
      }
    },
    {
      "cell_type": "code",
      "source": [
        "nlp1 = spacy.load(r\"./output/model-best\") "
      ],
      "metadata": {
        "id": "Wbwh4_9WyiTo"
      },
      "execution_count": 21,
      "outputs": []
    },
    {
      "cell_type": "code",
      "source": [
        "doc_ner = nlp1(\"Tesis    Registro digital: 2026147     AUTO DE VINCULACIÓN A PROCESO. CESAN SUS EFECTOS CUANDO ES RECLAMADO ENEL JUICIO DE AMPARO INDIRECTO Y CON POSTERIORIDAD SE APLICA UN CRITERIO DEOPORTUNIDAD QUE PRODUCE EL SOBRESEIMIENTO EN LA CAUSA PENAL.    Hechos: Una persona promovió un juicio de amparo indirecto en el que reclamó el auto devinculación a proceso que pesa en su contra por el delito de deserción y la inconstitucionalidad delartículo 269, fracción V, del Código de Justicia Militar. El Juez de Distrito negó el amparo, por lo quela parte quejosa interpuso recurso de revisión, el cual fue remitido a este alto tribunal para conocerdel reclamo de inconstitucionalidad. Durante la tramitación del recurso, el Ministerio Público aplicóun criterio de oportunidad en el procedimiento ordinario y, como consecuencia, el Juez de Controldecretó el sobreseimiento en la causa penal instruida en su contra. Criterio jurídico: Cuando una persona reclama en amparo indirecto el auto de vinculación a procesoque pesa en su contra y con posterioridad el Ministerio Público aplica un criterio de oportunidad enel proceso que produce el sobreseimiento en la causa penal, ello implica que desaparezcan deforma definitiva los efectos del acto reclamado, por lo que la persona regresa a la situación jurídicaanterior a la violación del acto que reclamó, lo que genera que se actualice la causa deimprocedencia de cesación de efectos. Justificación: El criterio de oportunidad es instituido como una forma de terminación de lainvestigación en el proceso penal acusatorio que consiste en la abstención del Ministerio Público deejercer acción penal en contra de la persona imputada, siempre que se hayan reparado ogarantizado los daños causados a la víctima u ofendido. La aplicación del criterio de oportunidadtrae como consecuencia la determinación de sobreseimiento en la causa penal.Con base en lo anterior, si se promueve un juicio de amparo indirecto en el que se reclama un autode vinculación a proceso y posteriormente el Ministerio Público aplica un criterio de oportunidad apartir del cual se decreta el sobreseimiento en la causa penal, ello trae como consecuencia que sedestruyan de manera definitiva los efectos del acto reclamado y que la parte quejosa regrese alestado en que se encontraba antes de la existencia de la violación que reclamó, lo anterior es así,porque la aplicación de un criterio de oportunidad tiene como consecuencia la extinción de la acciónpenal y, en consecuencia, efectos de una sentencia absolutoria, lo cual actualiza la causa deimprocedencia del juicio de amparo por cesación de efectos prevista en el artículo 61, fracción XXI,de la Ley de Amparo. PRIMERA SALA.    Amparo en revisión 219/2022. Esteban Rodríguez Martínez. 9 de noviembre de 2022. Cinco votosde las Ministras Norma Lucía Piña Hernández y Ana Margarita Ríos Farjat, y los Ministros Juan LuisInstancia: Primera SalaUndécima ÉpocaMateria(s): PenalTesis: 1a./J. 45/2023 (11a.)Fuente: Semanario Judicial de laFederación.Tipo: JurisprudenciaSemanario Judicial de la Federaciónhttp://sjf2.scjn.gob.mx/detalle/tesis/2026147Pág. 1 de 2Fecha de impresión 17/03/2023 González Alcántara Carrancá, quien formuló voto concurrente, Jorge Mario Pardo Rebolledo yAlfredo Gutiérrez Ortiz Mena. Ponente: Ministra Presidenta Ana Margarita Ríos Farjat. Secretario:Edwin Antony Pazol Rodríguez. Tesis de jurisprudencia 45/2023 (11a.). Aprobada por la Primera Sala de este Alto Tribunal, ensesión privada de quince de marzo de dos mil veintitrés.    Esta tesis se publicó el viernes 17 de marzo de 2023 a las 10:20 horas en el Semanario Judicial dela Federación y, por ende, se considera de aplicación obligatoria a partir del día hábil siguiente, 22de marzo de 2023, para los efectos previstos en el punto noveno del Acuerdo General Plenario1/2021.Semanario Judicial de la Federaciónhttp://sjf2.scjn.gob.mx/detalle/tesis/2026147Pág. 2 de 2Fecha de impresión 17/03/2023\") # input sample text\n",
        "doc.ents"
      ],
      "metadata": {
        "colab": {
          "base_uri": "https://localhost:8080/"
        },
        "id": "kUlSiIOwydrK",
        "outputId": "3d0b8faa-7a27-466e-830a-2866467c1137"
      },
      "execution_count": 26,
      "outputs": [
        {
          "output_type": "execute_result",
          "data": {
            "text/plain": [
              "(COFEPRIS,)"
            ]
          },
          "metadata": {},
          "execution_count": 26
        }
      ]
    }
  ]
}